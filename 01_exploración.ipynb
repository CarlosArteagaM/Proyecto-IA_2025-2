{
  "cells": [
    {
      "cell_type": "markdown",
      "metadata": {
        "id": "view-in-github",
        "colab_type": "text"
      },
      "source": [
        "<a href=\"https://colab.research.google.com/github/CarlosArteagaM/Proyecto-IA_2025-2/blob/main/01_exploraci%C3%B3n.ipynb\" target=\"_parent\"><img src=\"https://colab.research.google.com/assets/colab-badge.svg\" alt=\"Open In Colab\"/></a>"
      ]
    },
    {
      "cell_type": "markdown",
      "source": [],
      "metadata": {
        "id": "GHSXfSAuKrFQ"
      }
    },
    {
      "cell_type": "code",
      "source": [
        "import pandas as pd\n",
        "import os\n",
        "\n",
        "os.environ['KAGGLE_CONFIG_DIR']=\".\"\n"
      ],
      "metadata": {
        "id": "0CGrEnjqKrrz"
      },
      "execution_count": 6,
      "outputs": []
    },
    {
      "cell_type": "code",
      "source": [
        "!kaggle competitions download -c udea-ai-4-eng-20252-pruebas-saber-pro-colombia\n"
      ],
      "metadata": {
        "colab": {
          "base_uri": "https://localhost:8080/"
        },
        "id": "4eJrX4YXbisj",
        "outputId": "02131ed1-ad2a-450c-a91b-f40396905b4e"
      },
      "execution_count": 7,
      "outputs": [
        {
          "output_type": "stream",
          "name": "stdout",
          "text": [
            "Warning: Your Kaggle API key is readable by other users on this system! To fix this, you can run 'chmod 600 ./kaggle.json'\n",
            "Downloading udea-ai-4-eng-20252-pruebas-saber-pro-colombia.zip to /content\n",
            "  0% 0.00/29.9M [00:00<?, ?B/s]\n",
            "100% 29.9M/29.9M [00:00<00:00, 499MB/s]\n"
          ]
        }
      ]
    },
    {
      "cell_type": "code",
      "source": [
        "!unzip udea-ai-4-eng-20252-pruebas-saber-pro-colombia"
      ],
      "metadata": {
        "id": "hFxFDoIbdfyN",
        "outputId": "2098a9bb-91a5-4e30-d2aa-20501f7f3b01",
        "colab": {
          "base_uri": "https://localhost:8080/"
        }
      },
      "execution_count": 8,
      "outputs": [
        {
          "output_type": "stream",
          "name": "stdout",
          "text": [
            "Archive:  udea-ai-4-eng-20252-pruebas-saber-pro-colombia.zip\n",
            "  inflating: submission_example.csv  \n",
            "  inflating: test.csv                \n",
            "  inflating: train.csv               \n"
          ]
        }
      ]
    },
    {
      "cell_type": "code",
      "source": [
        "z=pd.read_csv(\"train.csv\")\n",
        "z.info()"
      ],
      "metadata": {
        "id": "MKsHOKECdyIb",
        "outputId": "f721e2d2-84a8-4dee-e306-ad48f1215cfd",
        "colab": {
          "base_uri": "https://localhost:8080/"
        }
      },
      "execution_count": 9,
      "outputs": [
        {
          "output_type": "stream",
          "name": "stdout",
          "text": [
            "<class 'pandas.core.frame.DataFrame'>\n",
            "RangeIndex: 692500 entries, 0 to 692499\n",
            "Data columns (total 21 columns):\n",
            " #   Column                       Non-Null Count   Dtype  \n",
            "---  ------                       --------------   -----  \n",
            " 0   ID                           692500 non-null  int64  \n",
            " 1   PERIODO_ACADEMICO            692500 non-null  int64  \n",
            " 2   E_PRGM_ACADEMICO             692500 non-null  object \n",
            " 3   E_PRGM_DEPARTAMENTO          692500 non-null  object \n",
            " 4   E_VALORMATRICULAUNIVERSIDAD  686213 non-null  object \n",
            " 5   E_HORASSEMANATRABAJA         661643 non-null  object \n",
            " 6   F_ESTRATOVIVIENDA            660363 non-null  object \n",
            " 7   F_TIENEINTERNET              665871 non-null  object \n",
            " 8   F_EDUCACIONPADRE             669322 non-null  object \n",
            " 9   F_TIENELAVADORA              652727 non-null  object \n",
            " 10  F_TIENEAUTOMOVIL             648877 non-null  object \n",
            " 11  E_PRIVADO_LIBERTAD           692500 non-null  object \n",
            " 12  E_PAGOMATRICULAPROPIO        686002 non-null  object \n",
            " 13  F_TIENECOMPUTADOR            654397 non-null  object \n",
            " 14  F_TIENEINTERNET.1            665871 non-null  object \n",
            " 15  F_EDUCACIONMADRE             668836 non-null  object \n",
            " 16  RENDIMIENTO_GLOBAL           692500 non-null  object \n",
            " 17  INDICADOR_1                  692500 non-null  float64\n",
            " 18  INDICADOR_2                  692500 non-null  float64\n",
            " 19  INDICADOR_3                  692500 non-null  float64\n",
            " 20  INDICADOR_4                  692500 non-null  float64\n",
            "dtypes: float64(4), int64(2), object(15)\n",
            "memory usage: 111.0+ MB\n"
          ]
        }
      ]
    },
    {
      "cell_type": "code",
      "source": [
        "print('Número de estudiantes que estudian enfermeria:',  z[z['E_PRGM_ACADEMICO'].str.contains('enfermeria', case=False)].shape[0])"
      ],
      "metadata": {
        "id": "N7c4MwCseTvr",
        "outputId": "83758fab-94be-435f-8beb-7ad89199fd8c",
        "colab": {
          "base_uri": "https://localhost:8080/"
        }
      },
      "execution_count": 10,
      "outputs": [
        {
          "output_type": "stream",
          "name": "stdout",
          "text": [
            "Número de estudiantes que estudian enfermeria: 11635\n"
          ]
        }
      ]
    },
    {
      "cell_type": "code",
      "source": [
        "print(\"Cantidad de NaN por columna:\")\n",
        "print(z.isna().sum())"
      ],
      "metadata": {
        "colab": {
          "base_uri": "https://localhost:8080/"
        },
        "id": "Nn0d5TSqeFT1",
        "outputId": "bcf9c467-48e2-4a23-fd18-2b48a7d7ed3c"
      },
      "execution_count": 11,
      "outputs": [
        {
          "output_type": "stream",
          "name": "stdout",
          "text": [
            "Cantidad de NaN por columna:\n",
            "ID                                 0\n",
            "PERIODO_ACADEMICO                  0\n",
            "E_PRGM_ACADEMICO                   0\n",
            "E_PRGM_DEPARTAMENTO                0\n",
            "E_VALORMATRICULAUNIVERSIDAD     6287\n",
            "E_HORASSEMANATRABAJA           30857\n",
            "F_ESTRATOVIVIENDA              32137\n",
            "F_TIENEINTERNET                26629\n",
            "F_EDUCACIONPADRE               23178\n",
            "F_TIENELAVADORA                39773\n",
            "F_TIENEAUTOMOVIL               43623\n",
            "E_PRIVADO_LIBERTAD                 0\n",
            "E_PAGOMATRICULAPROPIO           6498\n",
            "F_TIENECOMPUTADOR              38103\n",
            "F_TIENEINTERNET.1              26629\n",
            "F_EDUCACIONMADRE               23664\n",
            "RENDIMIENTO_GLOBAL                 0\n",
            "INDICADOR_1                        0\n",
            "INDICADOR_2                        0\n",
            "INDICADOR_3                        0\n",
            "INDICADOR_4                        0\n",
            "dtype: int64\n"
          ]
        }
      ]
    }
  ],
  "metadata": {
    "kernelspec": {
      "display_name": "Python 3",
      "language": "python",
      "name": "python3"
    },
    "language_info": {
      "codemirror_mode": {
        "name": "ipython",
        "version": 3
      },
      "file_extension": ".py",
      "mimetype": "text/x-python",
      "name": "python",
      "nbconvert_exporter": "python",
      "pygments_lexer": "ipython3",
      "version": "3.7.3"
    },
    "toc": {
      "toc_cell": false,
      "toc_number_sections": true,
      "toc_threshold": 6,
      "toc_window_display": false
    },
    "colab": {
      "provenance": [],
      "name": "01 - exploración.ipynb",
      "include_colab_link": true
    }
  },
  "nbformat": 4,
  "nbformat_minor": 0
}